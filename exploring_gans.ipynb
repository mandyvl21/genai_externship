{
 "cells": [
  {
   "cell_type": "markdown",
   "id": "f2dfee73",
   "metadata": {},
   "source": [
    "# GANs Image Generation\n",
    "\n",
    "In this notebook, we will explore how Generative Adversarial Networks (GANs) generate images. We will use a pretrained GAN model (BigGAN) to generate images from random noise.\n",
    "\n",
    "## Instructions\n",
    "1. Run the code below to generate an image from random noise.\n",
    "2. Modify the latent vector to generate different images.\n",
    "3. Experiment with generating different images by altering the latent vector and visualizing the results.\n"
   ]
  },
  {
   "cell_type": "code",
   "execution_count": 24,
   "id": "1c1448e7",
   "metadata": {},
   "outputs": [],
   "source": [
    "import torch\n",
    "from pytorch_pretrained_biggan import BigGAN, one_hot_from_int\n",
    "from PIL import Image\n",
    "\n",
    "# Load BigGAN\n",
    "model = BigGAN.from_pretrained('biggan-deep-256')\n",
    "model.eval()\n",
    "\n",
    "# Use class ID for zebra (340)\n",
    "class_vector = one_hot_from_int([340], batch_size=1)\n",
    "class_vector = torch.from_numpy(class_vector)\n",
    "\n",
    "# Generate random noise with torch.randn (normal distribution)\n",
    "noise_vector = torch.randn(1, 128)  \n",
    "\n",
    "# Generate image with truncation\n",
    "with torch.no_grad():\n",
    "    output = model(noise_vector, class_vector, truncation=0.4)\n",
    "\n",
    "# Post-process and show\n",
    "output = output.squeeze(0).cpu()\n",
    "output = (output + 1) / 2  # Scale [-1,1] → [0,1]\n",
    "output = output.clamp(0, 1).mul(255).byte()\n",
    "image = output.permute(1, 2, 0).numpy()\n",
    "\n",
    "img = Image.fromarray(image)\n",
    "img.show()"
   ]
  },
  {
   "cell_type": "markdown",
   "id": "bff7b1ff",
   "metadata": {},
   "source": [
    "## Reflection\n",
    "\n",
    "Now that you have generated images, write a brief report reflecting on your observations:\n",
    "\n",
    "1. How did the generated images change when you modified the latent vector?\n",
    "2. What patterns did you notice in the generated images? Were they realistic?\n",
    "3. How does the process of generating images from noise differ from traditional image generation methods?\n",
    "4. What challenges or limitations did you observe with the GAN model?"
   ]
  },
  {
   "cell_type": "markdown",
   "id": "5df58dcb",
   "metadata": {},
   "source": [
    "In attached pdf."
   ]
  }
 ],
 "metadata": {
  "kernelspec": {
   "display_name": "Python 3",
   "language": "python",
   "name": "python3"
  },
  "language_info": {
   "codemirror_mode": {
    "name": "ipython",
    "version": 3
   },
   "file_extension": ".py",
   "mimetype": "text/x-python",
   "name": "python",
   "nbconvert_exporter": "python",
   "pygments_lexer": "ipython3",
   "version": "3.11.5"
  }
 },
 "nbformat": 4,
 "nbformat_minor": 5
}
